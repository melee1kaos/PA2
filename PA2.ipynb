{
 "cells": [
  {
   "cell_type": "markdown",
   "id": "2054b1c0",
   "metadata": {},
   "source": [
    "# Programming Assignment 2 \n",
    "# by Jesse Bicknell\n",
    "# version 3.11.5\n",
    "# CS150 Fall2023"
   ]
  },
  {
   "cell_type": "markdown",
   "id": "3705dbf2",
   "metadata": {},
   "source": [
    "## Task 1: Personal Information"
   ]
  },
  {
   "cell_type": "markdown",
   "id": "45b91dff",
   "metadata": {},
   "source": [
    "### A. Set variables about myself"
   ]
  },
  {
   "cell_type": "code",
   "execution_count": 74,
   "id": "f1230a2f",
   "metadata": {},
   "outputs": [],
   "source": [
    "name,age,height,favorite_color=\"Jesse\",31,180,\"blue\""
   ]
  },
  {
   "cell_type": "markdown",
   "id": "3dfe2c90",
   "metadata": {},
   "source": [
    "### B. Print message containing all the information"
   ]
  },
  {
   "cell_type": "code",
   "execution_count": 75,
   "id": "969ebf68",
   "metadata": {},
   "outputs": [
    {
     "name": "stdout",
     "output_type": "stream",
     "text": [
      "My name is Jesse, I am 31 years old, I am 180 cm tall, and my favorite color is blue.\n"
     ]
    }
   ],
   "source": [
    "print(\"My name is \" + name + \", I am \" + str(age) + \" years old, I am \" + str(height) + \" cm tall, and my favorite color is \" + favorite_color + \".\")"
   ]
  },
  {
   "cell_type": "markdown",
   "id": "27bbe864",
   "metadata": {},
   "source": [
    "## Task 2: Temperature Conversion"
   ]
  },
  {
   "cell_type": "markdown",
   "id": "c526e095",
   "metadata": {},
   "source": [
    "### A. Enter Celsius temp variable"
   ]
  },
  {
   "cell_type": "code",
   "execution_count": 76,
   "id": "10bfd881",
   "metadata": {},
   "outputs": [],
   "source": [
    "celsius_temp=20.0"
   ]
  },
  {
   "cell_type": "markdown",
   "id": "ee336cb1",
   "metadata": {},
   "source": [
    "### B. Convert celsius temp into fahrenheit"
   ]
  },
  {
   "cell_type": "code",
   "execution_count": 15,
   "id": "aba3d8fe",
   "metadata": {},
   "outputs": [],
   "source": [
    "fahrenheit_temp=celsius_temp * (9/5) + 32"
   ]
  },
  {
   "cell_type": "markdown",
   "id": "929a5b13",
   "metadata": {},
   "source": [
    "### C. Print a message with all of the information"
   ]
  },
  {
   "cell_type": "code",
   "execution_count": 77,
   "id": "c491e146",
   "metadata": {},
   "outputs": [
    {
     "name": "stdout",
     "output_type": "stream",
     "text": [
      "The temperature is 20.0°C, which is 68.0°F.\n"
     ]
    }
   ],
   "source": [
    "print(\"The temperature is \" + str(celsius_temp) + \"°C, which is \" + str(fahrenheit_temp) + \"°F.\")"
   ]
  },
  {
   "cell_type": "markdown",
   "id": "b057139b",
   "metadata": {},
   "source": [
    "## Task 3: Simple Calculator"
   ]
  },
  {
   "cell_type": "markdown",
   "id": "740b41d9",
   "metadata": {},
   "source": [
    "### A. Assign numbers to two variables"
   ]
  },
  {
   "cell_type": "code",
   "execution_count": 78,
   "id": "188f3292",
   "metadata": {},
   "outputs": [],
   "source": [
    "num1,num2=8,7"
   ]
  },
  {
   "cell_type": "markdown",
   "id": "1f8aff23",
   "metadata": {},
   "source": [
    "### B. Perform operations and print results"
   ]
  },
  {
   "cell_type": "markdown",
   "id": "45561a23",
   "metadata": {},
   "source": [
    "#### B.1 Addition"
   ]
  },
  {
   "cell_type": "code",
   "execution_count": 26,
   "id": "c2e52956",
   "metadata": {},
   "outputs": [
    {
     "name": "stdout",
     "output_type": "stream",
     "text": [
      "15\n"
     ]
    }
   ],
   "source": [
    "print(num1 + num2)"
   ]
  },
  {
   "cell_type": "markdown",
   "id": "362c53eb",
   "metadata": {},
   "source": [
    "#### B.2 Subtraction"
   ]
  },
  {
   "cell_type": "code",
   "execution_count": 79,
   "id": "6a55cbff",
   "metadata": {},
   "outputs": [
    {
     "name": "stdout",
     "output_type": "stream",
     "text": [
      "1\n"
     ]
    }
   ],
   "source": [
    "print(num1 - num2)"
   ]
  },
  {
   "cell_type": "markdown",
   "id": "b8a47815",
   "metadata": {},
   "source": [
    "#### B.3 Multiplication"
   ]
  },
  {
   "cell_type": "code",
   "execution_count": 80,
   "id": "37c3d937",
   "metadata": {},
   "outputs": [
    {
     "name": "stdout",
     "output_type": "stream",
     "text": [
      "56\n"
     ]
    }
   ],
   "source": [
    "print(num1 * num2)"
   ]
  },
  {
   "cell_type": "markdown",
   "id": "178f49e2",
   "metadata": {},
   "source": [
    "#### B.4 Division"
   ]
  },
  {
   "cell_type": "code",
   "execution_count": 82,
   "id": "6a3848ee",
   "metadata": {},
   "outputs": [
    {
     "name": "stdout",
     "output_type": "stream",
     "text": [
      "1.1428571428571428\n"
     ]
    }
   ],
   "source": [
    "print(num1 / num2)"
   ]
  },
  {
   "cell_type": "markdown",
   "id": "7ff47f0f",
   "metadata": {},
   "source": [
    "## Task 4: String Manipulation"
   ]
  },
  {
   "cell_type": "markdown",
   "id": "fac65805",
   "metadata": {},
   "source": [
    "### A. Assign a quote as a variable"
   ]
  },
  {
   "cell_type": "code",
   "execution_count": 56,
   "id": "d88ecb8d",
   "metadata": {},
   "outputs": [],
   "source": [
    "quote=\" Storms don't last forever \""
   ]
  },
  {
   "cell_type": "markdown",
   "id": "8f23f1cb",
   "metadata": {},
   "source": [
    "### B. Determine the length of the quote and print"
   ]
  },
  {
   "cell_type": "code",
   "execution_count": 86,
   "id": "6dc89f4e",
   "metadata": {},
   "outputs": [
    {
     "name": "stdout",
     "output_type": "stream",
     "text": [
      "27\n"
     ]
    }
   ],
   "source": [
    "print(len(quote))"
   ]
  },
  {
   "cell_type": "markdown",
   "id": "fc90f340",
   "metadata": {},
   "source": [
    "### C. Manipulate case of quote"
   ]
  },
  {
   "cell_type": "markdown",
   "id": "a42c4417",
   "metadata": {},
   "source": [
    "#### C.1 Print quote in all uppercase"
   ]
  },
  {
   "cell_type": "code",
   "execution_count": 87,
   "id": "dc7881a7",
   "metadata": {},
   "outputs": [
    {
     "name": "stdout",
     "output_type": "stream",
     "text": [
      " STORMS DON'T LAST FOREVER \n"
     ]
    }
   ],
   "source": [
    "print(quote.upper())"
   ]
  },
  {
   "cell_type": "markdown",
   "id": "7484c443",
   "metadata": {},
   "source": [
    "#### C.2 Print quote in all lowercse"
   ]
  },
  {
   "cell_type": "code",
   "execution_count": 88,
   "id": "3db7cf01",
   "metadata": {},
   "outputs": [
    {
     "name": "stdout",
     "output_type": "stream",
     "text": [
      " storms don't last forever \n"
     ]
    }
   ],
   "source": [
    "print(quote.lower())"
   ]
  },
  {
   "cell_type": "markdown",
   "id": "39521f78",
   "metadata": {},
   "source": [
    "### D. Remove all white space around quote and print"
   ]
  },
  {
   "cell_type": "code",
   "execution_count": 89,
   "id": "d2f827fe",
   "metadata": {},
   "outputs": [
    {
     "name": "stdout",
     "output_type": "stream",
     "text": [
      "Storms don't last forever\n"
     ]
    }
   ],
   "source": [
    "print(quote.strip(\" \"))"
   ]
  },
  {
   "cell_type": "markdown",
   "id": "4abce409",
   "metadata": {},
   "source": [
    "### E. Print the quote as a list of words"
   ]
  },
  {
   "cell_type": "code",
   "execution_count": 96,
   "id": "726facb9",
   "metadata": {},
   "outputs": [
    {
     "name": "stdout",
     "output_type": "stream",
     "text": [
      "['Storms', \"don't\", 'last', 'forever']\n"
     ]
    }
   ],
   "source": [
    "print(quote.strip(\" \").split(sep=\" \")) # Had to use stripped quote otherwise the spaces would be in the list"
   ]
  },
  {
   "cell_type": "markdown",
   "id": "01c1894f",
   "metadata": {},
   "source": [
    "## Task 5: User Input and Integer Options"
   ]
  },
  {
   "cell_type": "markdown",
   "id": "2aa00250",
   "metadata": {},
   "source": [
    "### 1. Prompt User for two integers"
   ]
  },
  {
   "cell_type": "code",
   "execution_count": 68,
   "id": "972f7c47",
   "metadata": {},
   "outputs": [
    {
     "name": "stdout",
     "output_type": "stream",
     "text": [
      "Enter first integer: 10\n",
      "Enter second integer: 5\n"
     ]
    }
   ],
   "source": [
    "int1=int(input(\"Enter first integer: \"))\n",
    "int2=int(input(\"Enter second integer: \"))"
   ]
  },
  {
   "cell_type": "markdown",
   "id": "4cd96d4f",
   "metadata": {},
   "source": [
    "### 2. Calculate and print"
   ]
  },
  {
   "cell_type": "markdown",
   "id": "a88924c2",
   "metadata": {},
   "source": [
    "#### 2.1 Add the integers"
   ]
  },
  {
   "cell_type": "code",
   "execution_count": 70,
   "id": "e973e0bf",
   "metadata": {},
   "outputs": [
    {
     "name": "stdout",
     "output_type": "stream",
     "text": [
      "15\n"
     ]
    }
   ],
   "source": [
    "print(int1 + int2)"
   ]
  },
  {
   "cell_type": "markdown",
   "id": "e8fb7a6d",
   "metadata": {},
   "source": [
    "#### 2.2 Subtract the integers"
   ]
  },
  {
   "cell_type": "code",
   "execution_count": 71,
   "id": "41ee1e20",
   "metadata": {},
   "outputs": [
    {
     "name": "stdout",
     "output_type": "stream",
     "text": [
      "5\n"
     ]
    }
   ],
   "source": [
    "print(int1 - int2)"
   ]
  },
  {
   "cell_type": "markdown",
   "id": "85598bf2",
   "metadata": {},
   "source": [
    "#### 2.3 Multiply the integers"
   ]
  },
  {
   "cell_type": "code",
   "execution_count": 91,
   "id": "2ce1b81b",
   "metadata": {},
   "outputs": [
    {
     "name": "stdout",
     "output_type": "stream",
     "text": [
      "50\n"
     ]
    }
   ],
   "source": [
    "print(int1 * int2)"
   ]
  },
  {
   "cell_type": "markdown",
   "id": "6d78c247",
   "metadata": {},
   "source": [
    "#### 2.4 Integer division of the integers"
   ]
  },
  {
   "cell_type": "code",
   "execution_count": 92,
   "id": "ddffab5f",
   "metadata": {},
   "outputs": [
    {
     "name": "stdout",
     "output_type": "stream",
     "text": [
      "2\n"
     ]
    }
   ],
   "source": [
    "print(int1 // int2)"
   ]
  },
  {
   "cell_type": "markdown",
   "id": "1c6e3bda",
   "metadata": {},
   "source": [
    "## Version of Python"
   ]
  },
  {
   "cell_type": "code",
   "execution_count": 93,
   "id": "1f27f43b",
   "metadata": {},
   "outputs": [
    {
     "name": "stdout",
     "output_type": "stream",
     "text": [
      "3.11.5 | packaged by Anaconda, Inc. | (main, Sep 11 2023, 13:26:23) [MSC v.1916 64 bit (AMD64)]\n"
     ]
    }
   ],
   "source": [
    "import sys\n",
    "print(sys.version)"
   ]
  }
 ],
 "metadata": {
  "kernelspec": {
   "display_name": "Python 3 (ipykernel)",
   "language": "python",
   "name": "python3"
  },
  "language_info": {
   "codemirror_mode": {
    "name": "ipython",
    "version": 3
   },
   "file_extension": ".py",
   "mimetype": "text/x-python",
   "name": "python",
   "nbconvert_exporter": "python",
   "pygments_lexer": "ipython3",
   "version": "3.11.5"
  }
 },
 "nbformat": 4,
 "nbformat_minor": 5
}
